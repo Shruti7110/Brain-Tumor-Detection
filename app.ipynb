{
 "cells": [
  {
   "cell_type": "code",
   "execution_count": null,
   "metadata": {
    "colab": {
     "base_uri": "https://localhost:8080/"
    },
    "id": "LuFiZgewemtu",
    "outputId": "8a006dad-c1ce-42d2-e849-ef62af4b7f0b"
   },
   "outputs": [],
   "source": [
    "!pip uninstall -y torch torchvision torchaudio ultralytics"
   ]
  },
  {
   "cell_type": "code",
   "execution_count": null,
   "metadata": {
    "colab": {
     "base_uri": "https://localhost:8080/"
    },
    "id": "JJFftpxienQF",
    "outputId": "29121c37-8c16-4556-c1e2-fea5ef01e643"
   },
   "outputs": [],
   "source": [
    "!pip install torch torchvision torchaudio --index-url https://download.pytorch.org/whl/cpu\n",
    "!pip install ultralytics"
   ]
  },
  {
   "cell_type": "code",
   "execution_count": null,
   "metadata": {
    "colab": {
     "base_uri": "https://localhost:8080/"
    },
    "id": "TlJLb-KxrrE4",
    "outputId": "579d4edd-e01d-49d4-dfde-9d3e664cd2cf"
   },
   "outputs": [],
   "source": [
    "!pip install -q git+https://github.com/THU-MIG/yolov10.git"
   ]
  },
  {
   "cell_type": "code",
   "execution_count": null,
   "metadata": {
    "colab": {
     "base_uri": "https://localhost:8080/"
    },
    "id": "oWb6GsqcxjKN",
    "outputId": "a226eb9f-3cd6-4687-b678-2a74cd15c50b"
   },
   "outputs": [],
   "source": [
    "!pip install -q roboflow"
   ]
  },
  {
   "cell_type": "code",
   "execution_count": null,
   "metadata": {
    "colab": {
     "base_uri": "https://localhost:8080/"
    },
    "id": "un8v24FFxZoj",
    "outputId": "212e1f46-f984-4e0e-ebdc-a2e26c696e50"
   },
   "outputs": [],
   "source": [
    "!wget -P -q \"https://github.com/THU-MIG/yolov10/releases/download/v1.0/yolov10n.pt\""
   ]
  },
  {
   "cell_type": "code",
   "execution_count": null,
   "metadata": {
    "colab": {
     "base_uri": "https://localhost:8080/"
    },
    "id": "gNGcP-Oex6Wl",
    "outputId": "9d6a0f5e-d59e-412f-ae9a-1cd61769adf9"
   },
   "outputs": [],
   "source": [
    "from roboflow import Roboflow\n",
    "\n",
    "rf = Roboflow(api_key=\"an3ukjoeftChxZjp8au3\")\n",
    "project = rf.workspace(\"computer-vision-by-mehedi\").project(\"brain-tumour-detection-mri\")\n",
    "version = project.version(2)\n",
    "dataset = version.download(\"yolov8\")\n"
   ]
  },
  {
   "cell_type": "code",
   "execution_count": null,
   "metadata": {
    "colab": {
     "base_uri": "https://localhost:8080/",
     "height": 1000
    },
    "id": "_bXwqzgghxWw",
    "outputId": "95fccbf6-406a-4c92-be5e-7c6948197aa0"
   },
   "outputs": [],
   "source": [
    "!pip install torch==2.2.1 torchvision==0.17.1"
   ]
  },
  {
   "cell_type": "code",
   "execution_count": null,
   "metadata": {
    "colab": {
     "base_uri": "https://localhost:8080/"
    },
    "id": "Jl5N-DAtgTDW",
    "outputId": "8bd6f090-0841-484c-e260-ceb57a147add"
   },
   "outputs": [],
   "source": [
    "import torch\n",
    "import torchvision\n",
    "print(torch.__version__)\n",
    "print(torchvision.__version__)"
   ]
  },
  {
   "cell_type": "code",
   "execution_count": null,
   "metadata": {
    "colab": {
     "base_uri": "https://localhost:8080/"
    },
    "id": "ynTpMrnNnWm7",
    "outputId": "1aa49ef9-ba98-4d4c-9754-175bbb8b7086"
   },
   "outputs": [],
   "source": [
    "!pip install numpy==1.26.4\n",
    "\n"
   ]
  },
  {
   "cell_type": "code",
   "execution_count": null,
   "metadata": {
    "colab": {
     "base_uri": "https://localhost:8080/"
    },
    "id": "dTRvFVIyz_oJ",
    "outputId": "200022ff-6b44-497c-c535-7ef1c080a096"
   },
   "outputs": [],
   "source": [
    "!yolo task=detect mode=train epochs=25 batch=32 plots=True \\\n",
    "model=\"/content/-q/yolov10n.pt\" \\\n",
    "data='/content/Brain-Tumour-detection-(MRI)-2/data.yaml'"
   ]
  },
  {
   "cell_type": "code",
   "execution_count": null,
   "metadata": {
    "colab": {
     "base_uri": "https://localhost:8080/"
    },
    "id": "JH6R8-ogqXWI",
    "outputId": "395c1109-0cb2-465c-ec8c-9cea8fca24f0"
   },
   "outputs": [],
   "source": [
    "!pip install --force-reinstall --no-cache-dir numpy==1.26.4\n",
    "\n"
   ]
  },
  {
   "cell_type": "code",
   "execution_count": null,
   "metadata": {
    "colab": {
     "base_uri": "https://localhost:8080/"
    },
    "id": "rDL5mfZXzDj0",
    "outputId": "e12dd65c-d33c-405b-dae2-c26aa1fd83c2"
   },
   "outputs": [],
   "source": [
    "from ultralytics import YOLOv10\n",
    "\n",
    "model_path = \"/content/runs/detect/train3/weights/best.pt\"\n",
    "model = YOLOv10(model_path)\n",
    "\n",
    "result = model(source = \"/content/Brain-Tumour-detection-(MRI)-2/valid/images\", conf = 0.25, save=True)\n",
    "\n"
   ]
  },
  {
   "cell_type": "code",
   "execution_count": null,
   "metadata": {
    "colab": {
     "base_uri": "https://localhost:8080/",
     "height": 863
    },
    "id": "oecbMGoVpUET",
    "outputId": "7a76f5b0-4d35-478e-b286-7579a360be0c"
   },
   "outputs": [],
   "source": [
    "import glob\n",
    "import matplotlib.pyplot as plt\n",
    "import matplotlib.image as mpimg\n",
    "\n",
    "images = glob.glob(\"/content/runs/detect/predict3/*.jpg\")\n",
    "\n",
    "images_to_display = images[:8]\n",
    "fig, axes = plt.subplots(2, 4, figsize=(15, 15))\n",
    "\n",
    "for i, ax in enumerate(axes.flat):\n",
    "  if i < len(images_to_display):\n",
    "    img = mpimg.imread(images_to_display[i])\n",
    "    ax.imshow(img)\n",
    "    ax.axis('off')\n",
    "\n",
    "plt.tight_layout()\n",
    "plt.show()\n"
   ]
  },
  {
   "cell_type": "code",
   "execution_count": null,
   "metadata": {
    "colab": {
     "base_uri": "https://localhost:8080/",
     "height": 735
    },
    "id": "jCBFSC1ixqlS",
    "outputId": "b0b8d295-fbd3-487e-9566-64230ffc7ce4"
   },
   "outputs": [],
   "source": [
    "\n",
    "result = model.predict(source = \"/content/Brain-Tumour-detection-(MRI)-2/valid/images/Tr-gl_0040_jpg.rf.71be679c2cfbe8c729552849c7fe8c01.jpg\", imgsz = 640, conf = 0.25)\n",
    "annotated_img = result[0].plot()\n",
    "annotated_img[:,:, ::-1]"
   ]
  },
  {
   "cell_type": "code",
   "execution_count": null,
   "metadata": {
    "colab": {
     "base_uri": "https://localhost:8080/",
     "height": 760
    },
    "id": "PYyaL3BpzXIl",
    "outputId": "77e0cb91-2c7a-41c4-c1ad-bd6a3c8f665e"
   },
   "outputs": [],
   "source": [
    "import gradio as gr\n",
    "\n",
    "\n",
    "def predict(image):\n",
    "  result = model.predict(source = image, imgsz = 640, conf = 0.25)\n",
    "  annotated_img = result[0].plot()\n",
    "  annotated_img[:,:, ::-1]\n",
    "  return annotated_img\n",
    "\n",
    "demo = gr.Interface(\n",
    "    fn = predict,\n",
    "    inputs = gr.Image(type=\"numpy\", label=\"Upload an image\"),\n",
    "    outputs = gr.Image(type=\"numpy\", label=\"Prediction\"),\n",
    "    title = \" Brain tumor Detection  using Yolov10\",\n",
    "    description = \"Upload an image to detect brain Tumor\",\n",
    ")\n",
    "demo.launch(debug=True)\n"
   ]
  }
 ],
 "metadata": {
  "accelerator": "GPU",
  "colab": {
   "gpuType": "T4",
   "provenance": []
  },
  "kernelspec": {
   "display_name": "Python [conda env:base] *",
   "language": "python",
   "name": "conda-base-py"
  },
  "language_info": {
   "codemirror_mode": {
    "name": "ipython",
    "version": 3
   },
   "file_extension": ".py",
   "mimetype": "text/x-python",
   "name": "python",
   "nbconvert_exporter": "python",
   "pygments_lexer": "ipython3",
   "version": "3.12.7"
  }
 },
 "nbformat": 4,
 "nbformat_minor": 4
}
